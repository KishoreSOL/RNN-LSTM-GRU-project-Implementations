{
  "cells": [
    {
      "cell_type": "markdown",
      "source": [
        "\n",
        "## Time series weather forecasting[link text](https://)"
      ],
      "metadata": {
        "id": "gUFNOAUriHeB"
      }
    },
    {
      "cell_type": "markdown",
      "source": [
        "importing the dependencies"
      ],
      "metadata": {
        "id": "yEAdaOq4iMf-"
      }
    },
    {
      "cell_type": "code",
      "execution_count": null,
      "metadata": {
        "id": "LoyDmjPMtV-z"
      },
      "outputs": [],
      "source": [
        "import tensorflow as tf\n",
        "import matplotlib as mpl\n",
        "import matplotlib.pyplot as plt\n",
        "import numpy as np\n",
        "import os\n",
        "import pandas as pd\n",
        "\n",
        "from keras.models import Sequential\n",
        "from keras.layers import Dense, LSTM, Dropout"
      ]
    },
    {
      "cell_type": "markdown",
      "metadata": {
        "id": "onDLYLext5Sy"
      },
      "source": [
        "\n",
        "The weather dataset\n",
        "We are using [weather time series dataset] from Max Planck Institute for Biogeochemistry.\n",
        "\n",
        "This dataset contains 14 different features such as air temperature, atmospheric pressure, and humidity. With frequency of 10 minutes, beginning in 2003. from François Chollet for his book Deep Learning with Python."
      ]
    },
    {
      "cell_type": "code",
      "execution_count": null,
      "metadata": {
        "id": "g0KOhmdGtywm"
      },
      "outputs": [],
      "source": [
        "\n",
        "zip_path = tf.keras.utils.get_file( origin='https://storage.googleapis.com/tensorflow/tf-keras-datasets/jena_climate_2009_2016.csv.zip',\n",
        "    fname='jena_climate_2009_2016.csv.zip',\n",
        "    extract=True)\n",
        "csv_path, _ = os.path.splitext(zip_path)"
      ]
    },
    {
      "cell_type": "code",
      "execution_count": null,
      "metadata": {
        "colab": {
          "base_uri": "https://localhost:8080/",
          "height": 36
        },
        "id": "xg6myMaiuHDU",
        "outputId": "8b15fb13-eecd-4fee-99df-c640fe74bd20"
      },
      "outputs": [
        {
          "output_type": "execute_result",
          "data": {
            "text/plain": [
              "'/root/.keras/datasets/jena_climate_2009_2016.csv'"
            ],
            "application/vnd.google.colaboratory.intrinsic+json": {
              "type": "string"
            }
          },
          "metadata": {},
          "execution_count": 3
        }
      ],
      "source": [
        "csv_path"
      ]
    },
    {
      "cell_type": "code",
      "execution_count": null,
      "metadata": {
        "id": "w1I9X0a6uR8q"
      },
      "outputs": [],
      "source": [
        "df = pd.read_csv(csv_path)"
      ]
    },
    {
      "cell_type": "code",
      "execution_count": null,
      "metadata": {
        "colab": {
          "base_uri": "https://localhost:8080/",
          "height": 310
        },
        "id": "VUAX4DuNuZPu",
        "outputId": "daff7ccc-ecec-49c0-bb48-a28ce84222a7"
      },
      "outputs": [
        {
          "output_type": "execute_result",
          "data": {
            "text/plain": [
              "             Date Time  p (mbar)  T (degC)  Tpot (K)  Tdew (degC)  rh (%)  \\\n",
              "0  01.01.2009 00:10:00    996.52     -8.02    265.40        -8.90    93.3   \n",
              "1  01.01.2009 00:20:00    996.57     -8.41    265.01        -9.28    93.4   \n",
              "2  01.01.2009 00:30:00    996.53     -8.51    264.91        -9.31    93.9   \n",
              "3  01.01.2009 00:40:00    996.51     -8.31    265.12        -9.07    94.2   \n",
              "4  01.01.2009 00:50:00    996.51     -8.27    265.15        -9.04    94.1   \n",
              "\n",
              "   VPmax (mbar)  VPact (mbar)  VPdef (mbar)  sh (g/kg)  H2OC (mmol/mol)  \\\n",
              "0          3.33          3.11          0.22       1.94             3.12   \n",
              "1          3.23          3.02          0.21       1.89             3.03   \n",
              "2          3.21          3.01          0.20       1.88             3.02   \n",
              "3          3.26          3.07          0.19       1.92             3.08   \n",
              "4          3.27          3.08          0.19       1.92             3.09   \n",
              "\n",
              "   rho (g/m**3)  wv (m/s)  max. wv (m/s)  wd (deg)  \n",
              "0       1307.75      1.03           1.75     152.3  \n",
              "1       1309.80      0.72           1.50     136.1  \n",
              "2       1310.24      0.19           0.63     171.6  \n",
              "3       1309.19      0.34           0.50     198.0  \n",
              "4       1309.00      0.32           0.63     214.3  "
            ],
            "text/html": [
              "\n",
              "  <div id=\"df-b9c92fc8-bb09-4c34-8996-df37541a82a7\" class=\"colab-df-container\">\n",
              "    <div>\n",
              "<style scoped>\n",
              "    .dataframe tbody tr th:only-of-type {\n",
              "        vertical-align: middle;\n",
              "    }\n",
              "\n",
              "    .dataframe tbody tr th {\n",
              "        vertical-align: top;\n",
              "    }\n",
              "\n",
              "    .dataframe thead th {\n",
              "        text-align: right;\n",
              "    }\n",
              "</style>\n",
              "<table border=\"1\" class=\"dataframe\">\n",
              "  <thead>\n",
              "    <tr style=\"text-align: right;\">\n",
              "      <th></th>\n",
              "      <th>Date Time</th>\n",
              "      <th>p (mbar)</th>\n",
              "      <th>T (degC)</th>\n",
              "      <th>Tpot (K)</th>\n",
              "      <th>Tdew (degC)</th>\n",
              "      <th>rh (%)</th>\n",
              "      <th>VPmax (mbar)</th>\n",
              "      <th>VPact (mbar)</th>\n",
              "      <th>VPdef (mbar)</th>\n",
              "      <th>sh (g/kg)</th>\n",
              "      <th>H2OC (mmol/mol)</th>\n",
              "      <th>rho (g/m**3)</th>\n",
              "      <th>wv (m/s)</th>\n",
              "      <th>max. wv (m/s)</th>\n",
              "      <th>wd (deg)</th>\n",
              "    </tr>\n",
              "  </thead>\n",
              "  <tbody>\n",
              "    <tr>\n",
              "      <th>0</th>\n",
              "      <td>01.01.2009 00:10:00</td>\n",
              "      <td>996.52</td>\n",
              "      <td>-8.02</td>\n",
              "      <td>265.40</td>\n",
              "      <td>-8.90</td>\n",
              "      <td>93.3</td>\n",
              "      <td>3.33</td>\n",
              "      <td>3.11</td>\n",
              "      <td>0.22</td>\n",
              "      <td>1.94</td>\n",
              "      <td>3.12</td>\n",
              "      <td>1307.75</td>\n",
              "      <td>1.03</td>\n",
              "      <td>1.75</td>\n",
              "      <td>152.3</td>\n",
              "    </tr>\n",
              "    <tr>\n",
              "      <th>1</th>\n",
              "      <td>01.01.2009 00:20:00</td>\n",
              "      <td>996.57</td>\n",
              "      <td>-8.41</td>\n",
              "      <td>265.01</td>\n",
              "      <td>-9.28</td>\n",
              "      <td>93.4</td>\n",
              "      <td>3.23</td>\n",
              "      <td>3.02</td>\n",
              "      <td>0.21</td>\n",
              "      <td>1.89</td>\n",
              "      <td>3.03</td>\n",
              "      <td>1309.80</td>\n",
              "      <td>0.72</td>\n",
              "      <td>1.50</td>\n",
              "      <td>136.1</td>\n",
              "    </tr>\n",
              "    <tr>\n",
              "      <th>2</th>\n",
              "      <td>01.01.2009 00:30:00</td>\n",
              "      <td>996.53</td>\n",
              "      <td>-8.51</td>\n",
              "      <td>264.91</td>\n",
              "      <td>-9.31</td>\n",
              "      <td>93.9</td>\n",
              "      <td>3.21</td>\n",
              "      <td>3.01</td>\n",
              "      <td>0.20</td>\n",
              "      <td>1.88</td>\n",
              "      <td>3.02</td>\n",
              "      <td>1310.24</td>\n",
              "      <td>0.19</td>\n",
              "      <td>0.63</td>\n",
              "      <td>171.6</td>\n",
              "    </tr>\n",
              "    <tr>\n",
              "      <th>3</th>\n",
              "      <td>01.01.2009 00:40:00</td>\n",
              "      <td>996.51</td>\n",
              "      <td>-8.31</td>\n",
              "      <td>265.12</td>\n",
              "      <td>-9.07</td>\n",
              "      <td>94.2</td>\n",
              "      <td>3.26</td>\n",
              "      <td>3.07</td>\n",
              "      <td>0.19</td>\n",
              "      <td>1.92</td>\n",
              "      <td>3.08</td>\n",
              "      <td>1309.19</td>\n",
              "      <td>0.34</td>\n",
              "      <td>0.50</td>\n",
              "      <td>198.0</td>\n",
              "    </tr>\n",
              "    <tr>\n",
              "      <th>4</th>\n",
              "      <td>01.01.2009 00:50:00</td>\n",
              "      <td>996.51</td>\n",
              "      <td>-8.27</td>\n",
              "      <td>265.15</td>\n",
              "      <td>-9.04</td>\n",
              "      <td>94.1</td>\n",
              "      <td>3.27</td>\n",
              "      <td>3.08</td>\n",
              "      <td>0.19</td>\n",
              "      <td>1.92</td>\n",
              "      <td>3.09</td>\n",
              "      <td>1309.00</td>\n",
              "      <td>0.32</td>\n",
              "      <td>0.63</td>\n",
              "      <td>214.3</td>\n",
              "    </tr>\n",
              "  </tbody>\n",
              "</table>\n",
              "</div>\n",
              "    <div class=\"colab-df-buttons\">\n",
              "\n",
              "  <div class=\"colab-df-container\">\n",
              "    <button class=\"colab-df-convert\" onclick=\"convertToInteractive('df-b9c92fc8-bb09-4c34-8996-df37541a82a7')\"\n",
              "            title=\"Convert this dataframe to an interactive table.\"\n",
              "            style=\"display:none;\">\n",
              "\n",
              "  <svg xmlns=\"http://www.w3.org/2000/svg\" height=\"24px\" viewBox=\"0 -960 960 960\">\n",
              "    <path d=\"M120-120v-720h720v720H120Zm60-500h600v-160H180v160Zm220 220h160v-160H400v160Zm0 220h160v-160H400v160ZM180-400h160v-160H180v160Zm440 0h160v-160H620v160ZM180-180h160v-160H180v160Zm440 0h160v-160H620v160Z\"/>\n",
              "  </svg>\n",
              "    </button>\n",
              "\n",
              "  <style>\n",
              "    .colab-df-container {\n",
              "      display:flex;\n",
              "      gap: 12px;\n",
              "    }\n",
              "\n",
              "    .colab-df-convert {\n",
              "      background-color: #E8F0FE;\n",
              "      border: none;\n",
              "      border-radius: 50%;\n",
              "      cursor: pointer;\n",
              "      display: none;\n",
              "      fill: #1967D2;\n",
              "      height: 32px;\n",
              "      padding: 0 0 0 0;\n",
              "      width: 32px;\n",
              "    }\n",
              "\n",
              "    .colab-df-convert:hover {\n",
              "      background-color: #E2EBFA;\n",
              "      box-shadow: 0px 1px 2px rgba(60, 64, 67, 0.3), 0px 1px 3px 1px rgba(60, 64, 67, 0.15);\n",
              "      fill: #174EA6;\n",
              "    }\n",
              "\n",
              "    .colab-df-buttons div {\n",
              "      margin-bottom: 4px;\n",
              "    }\n",
              "\n",
              "    [theme=dark] .colab-df-convert {\n",
              "      background-color: #3B4455;\n",
              "      fill: #D2E3FC;\n",
              "    }\n",
              "\n",
              "    [theme=dark] .colab-df-convert:hover {\n",
              "      background-color: #434B5C;\n",
              "      box-shadow: 0px 1px 3px 1px rgba(0, 0, 0, 0.15);\n",
              "      filter: drop-shadow(0px 1px 2px rgba(0, 0, 0, 0.3));\n",
              "      fill: #FFFFFF;\n",
              "    }\n",
              "  </style>\n",
              "\n",
              "    <script>\n",
              "      const buttonEl =\n",
              "        document.querySelector('#df-b9c92fc8-bb09-4c34-8996-df37541a82a7 button.colab-df-convert');\n",
              "      buttonEl.style.display =\n",
              "        google.colab.kernel.accessAllowed ? 'block' : 'none';\n",
              "\n",
              "      async function convertToInteractive(key) {\n",
              "        const element = document.querySelector('#df-b9c92fc8-bb09-4c34-8996-df37541a82a7');\n",
              "        const dataTable =\n",
              "          await google.colab.kernel.invokeFunction('convertToInteractive',\n",
              "                                                    [key], {});\n",
              "        if (!dataTable) return;\n",
              "\n",
              "        const docLinkHtml = 'Like what you see? Visit the ' +\n",
              "          '<a target=\"_blank\" href=https://colab.research.google.com/notebooks/data_table.ipynb>data table notebook</a>'\n",
              "          + ' to learn more about interactive tables.';\n",
              "        element.innerHTML = '';\n",
              "        dataTable['output_type'] = 'display_data';\n",
              "        await google.colab.output.renderOutput(dataTable, element);\n",
              "        const docLink = document.createElement('div');\n",
              "        docLink.innerHTML = docLinkHtml;\n",
              "        element.appendChild(docLink);\n",
              "      }\n",
              "    </script>\n",
              "  </div>\n",
              "\n",
              "\n",
              "<div id=\"df-a15fdc4e-8a47-4c17-abf1-386d0e4b3edd\">\n",
              "  <button class=\"colab-df-quickchart\" onclick=\"quickchart('df-a15fdc4e-8a47-4c17-abf1-386d0e4b3edd')\"\n",
              "            title=\"Suggest charts\"\n",
              "            style=\"display:none;\">\n",
              "\n",
              "<svg xmlns=\"http://www.w3.org/2000/svg\" height=\"24px\"viewBox=\"0 0 24 24\"\n",
              "     width=\"24px\">\n",
              "    <g>\n",
              "        <path d=\"M19 3H5c-1.1 0-2 .9-2 2v14c0 1.1.9 2 2 2h14c1.1 0 2-.9 2-2V5c0-1.1-.9-2-2-2zM9 17H7v-7h2v7zm4 0h-2V7h2v10zm4 0h-2v-4h2v4z\"/>\n",
              "    </g>\n",
              "</svg>\n",
              "  </button>\n",
              "\n",
              "<style>\n",
              "  .colab-df-quickchart {\n",
              "      --bg-color: #E8F0FE;\n",
              "      --fill-color: #1967D2;\n",
              "      --hover-bg-color: #E2EBFA;\n",
              "      --hover-fill-color: #174EA6;\n",
              "      --disabled-fill-color: #AAA;\n",
              "      --disabled-bg-color: #DDD;\n",
              "  }\n",
              "\n",
              "  [theme=dark] .colab-df-quickchart {\n",
              "      --bg-color: #3B4455;\n",
              "      --fill-color: #D2E3FC;\n",
              "      --hover-bg-color: #434B5C;\n",
              "      --hover-fill-color: #FFFFFF;\n",
              "      --disabled-bg-color: #3B4455;\n",
              "      --disabled-fill-color: #666;\n",
              "  }\n",
              "\n",
              "  .colab-df-quickchart {\n",
              "    background-color: var(--bg-color);\n",
              "    border: none;\n",
              "    border-radius: 50%;\n",
              "    cursor: pointer;\n",
              "    display: none;\n",
              "    fill: var(--fill-color);\n",
              "    height: 32px;\n",
              "    padding: 0;\n",
              "    width: 32px;\n",
              "  }\n",
              "\n",
              "  .colab-df-quickchart:hover {\n",
              "    background-color: var(--hover-bg-color);\n",
              "    box-shadow: 0 1px 2px rgba(60, 64, 67, 0.3), 0 1px 3px 1px rgba(60, 64, 67, 0.15);\n",
              "    fill: var(--button-hover-fill-color);\n",
              "  }\n",
              "\n",
              "  .colab-df-quickchart-complete:disabled,\n",
              "  .colab-df-quickchart-complete:disabled:hover {\n",
              "    background-color: var(--disabled-bg-color);\n",
              "    fill: var(--disabled-fill-color);\n",
              "    box-shadow: none;\n",
              "  }\n",
              "\n",
              "  .colab-df-spinner {\n",
              "    border: 2px solid var(--fill-color);\n",
              "    border-color: transparent;\n",
              "    border-bottom-color: var(--fill-color);\n",
              "    animation:\n",
              "      spin 1s steps(1) infinite;\n",
              "  }\n",
              "\n",
              "  @keyframes spin {\n",
              "    0% {\n",
              "      border-color: transparent;\n",
              "      border-bottom-color: var(--fill-color);\n",
              "      border-left-color: var(--fill-color);\n",
              "    }\n",
              "    20% {\n",
              "      border-color: transparent;\n",
              "      border-left-color: var(--fill-color);\n",
              "      border-top-color: var(--fill-color);\n",
              "    }\n",
              "    30% {\n",
              "      border-color: transparent;\n",
              "      border-left-color: var(--fill-color);\n",
              "      border-top-color: var(--fill-color);\n",
              "      border-right-color: var(--fill-color);\n",
              "    }\n",
              "    40% {\n",
              "      border-color: transparent;\n",
              "      border-right-color: var(--fill-color);\n",
              "      border-top-color: var(--fill-color);\n",
              "    }\n",
              "    60% {\n",
              "      border-color: transparent;\n",
              "      border-right-color: var(--fill-color);\n",
              "    }\n",
              "    80% {\n",
              "      border-color: transparent;\n",
              "      border-right-color: var(--fill-color);\n",
              "      border-bottom-color: var(--fill-color);\n",
              "    }\n",
              "    90% {\n",
              "      border-color: transparent;\n",
              "      border-bottom-color: var(--fill-color);\n",
              "    }\n",
              "  }\n",
              "</style>\n",
              "\n",
              "  <script>\n",
              "    async function quickchart(key) {\n",
              "      const quickchartButtonEl =\n",
              "        document.querySelector('#' + key + ' button');\n",
              "      quickchartButtonEl.disabled = true;  // To prevent multiple clicks.\n",
              "      quickchartButtonEl.classList.add('colab-df-spinner');\n",
              "      try {\n",
              "        const charts = await google.colab.kernel.invokeFunction(\n",
              "            'suggestCharts', [key], {});\n",
              "      } catch (error) {\n",
              "        console.error('Error during call to suggestCharts:', error);\n",
              "      }\n",
              "      quickchartButtonEl.classList.remove('colab-df-spinner');\n",
              "      quickchartButtonEl.classList.add('colab-df-quickchart-complete');\n",
              "    }\n",
              "    (() => {\n",
              "      let quickchartButtonEl =\n",
              "        document.querySelector('#df-a15fdc4e-8a47-4c17-abf1-386d0e4b3edd button');\n",
              "      quickchartButtonEl.style.display =\n",
              "        google.colab.kernel.accessAllowed ? 'block' : 'none';\n",
              "    })();\n",
              "  </script>\n",
              "</div>\n",
              "\n",
              "    </div>\n",
              "  </div>\n"
            ],
            "application/vnd.google.colaboratory.intrinsic+json": {
              "type": "dataframe",
              "variable_name": "df"
            }
          },
          "metadata": {},
          "execution_count": 5
        }
      ],
      "source": [
        "df.head()"
      ]
    },
    {
      "cell_type": "markdown",
      "metadata": {
        "id": "OfV8FBmuvs8i"
      },
      "source": [
        "In both the following tutorials, the first 300,000 rows of the data will be the training dataset, and there remaining will be the validation dataset. This amounts to ~2100 days worth of training data."
      ]
    },
    {
      "cell_type": "code",
      "execution_count": null,
      "metadata": {
        "id": "OdaCI2dVua12"
      },
      "outputs": [],
      "source": [
        "TRAIN_SPLIT = 350000"
      ]
    },
    {
      "cell_type": "markdown",
      "metadata": {
        "id": "1ir_j9pWvvI4"
      },
      "source": [
        "Setting seed to ensure reproducibility."
      ]
    },
    {
      "cell_type": "code",
      "execution_count": null,
      "metadata": {
        "id": "u2ec5WT2vH5Z"
      },
      "outputs": [],
      "source": [
        "tf.random.set_seed(13)"
      ]
    },
    {
      "cell_type": "code",
      "execution_count": null,
      "metadata": {
        "id": "UUrXp5tOvqD1"
      },
      "outputs": [],
      "source": [
        "uni_data = df['T (degC)']\n",
        "uni_data.index = df['Date Time']\n"
      ]
    },
    {
      "cell_type": "code",
      "execution_count": null,
      "metadata": {
        "id": "eH6Cgg30v21k"
      },
      "outputs": [],
      "source": [
        "uni_data_train = uni_data.values[:TRAIN_SPLIT]\n",
        "uni_data_test = uni_data.values[TRAIN_SPLIT:]"
      ]
    },
    {
      "cell_type": "code",
      "execution_count": null,
      "metadata": {
        "colab": {
          "base_uri": "https://localhost:8080/"
        },
        "id": "kQCBrZRawCUq",
        "outputId": "5954a77f-4c97-4f77-d678-0cbb4742ca38"
      },
      "outputs": [
        {
          "output_type": "stream",
          "name": "stdout",
          "text": [
            "[-8.02 -8.41 -8.51 -8.31 -8.27]\n"
          ]
        }
      ],
      "source": [
        "print(uni_data_train[:5])"
      ]
    },
    {
      "cell_type": "code",
      "execution_count": null,
      "metadata": {
        "id": "mGMBxEpNwDwf"
      },
      "outputs": [],
      "source": [
        "uni_train_mean = uni_data_train.mean()\n",
        "uni_train_std = uni_data_train.std()\n",
        "uni_data_train = (uni_data_train-uni_train_mean)/uni_train_std"
      ]
    },
    {
      "cell_type": "code",
      "execution_count": null,
      "metadata": {
        "id": "LVrL_OYmwQs6"
      },
      "outputs": [],
      "source": [
        "uni_test_mean = uni_data_test.mean()\n",
        "uni_test_std = uni_data_test.std()\n",
        "uni_data_test = (uni_data_test-uni_test_mean)/uni_test_std"
      ]
    },
    {
      "cell_type": "code",
      "execution_count": null,
      "metadata": {
        "colab": {
          "base_uri": "https://localhost:8080/"
        },
        "id": "KnJoeRRhwO2T",
        "outputId": "12b297e1-1598-4dac-9633-ec8a108ac7fd"
      },
      "outputs": [
        {
          "output_type": "execute_result",
          "data": {
            "text/plain": [
              "array([-2.02968527, -2.07521719, -2.08689204, -2.06354234, -2.0588724 ])"
            ]
          },
          "metadata": {},
          "execution_count": 13
        }
      ],
      "source": [
        "uni_data_train[:5]"
      ]
    },
    {
      "cell_type": "markdown",
      "metadata": {
        "id": "ZhUtbYDMw0WW"
      },
      "source": [
        "As you can see in the data, an observation is recorded every 10 minutes. This means that, for a single hour, you will have 6 observations. Similarly, a single day will contain 144 (6x24) observations.\n",
        "\n",
        "Given a specific time, let's say you want to predict the temperature 6 hours in the future. In order to make this prediction, you choose to use 5 days of observations. Thus, you would create a window containing the last 720(5x144) observations to train the model. Many such configurations are possible, making this dataset a good one to experiment with.\n",
        "\n",
        "The function below returns the above described windows of time for the model to train on. The parameter history_size is the size of the past window of information. The target_size is how far in the future does the model need to learn to predict. The target_size is the label that needs to be predicted."
      ]
    },
    {
      "cell_type": "code",
      "execution_count": null,
      "metadata": {
        "id": "20H1hbEuwin9"
      },
      "outputs": [],
      "source": [
        "x_train=[]\n",
        "y_train=[]\n",
        "\n",
        "i=720\n",
        "\n",
        "while i< len(uni_data_train):\n",
        "    x_train.append(uni_data_train[i-720:i])\n",
        "    y_train.append(uni_data_train[i])\n",
        "    i=i+720\n",
        "x_train, y_train = np.array(x_train), np.array(y_train)\n",
        "x_train = np.reshape(x_train, (x_train.shape[0], x_train.shape[1], 1))"
      ]
    },
    {
      "cell_type": "code",
      "execution_count": null,
      "metadata": {
        "id": "1BP0CKAqA5dQ"
      },
      "outputs": [],
      "source": [
        "x_test=[]\n",
        "y_test=[]\n",
        "\n",
        "i=720\n",
        "\n",
        "while i< len(uni_data_test):\n",
        "    x_test.append(uni_data_test[i-720:i])\n",
        "    y_test.append(uni_data_test[i])\n",
        "    i=i+720\n",
        "x_test, y_test = np.array(x_test), np.array(y_test)\n",
        "x_test = np.reshape(x_test, (x_test.shape[0], x_test.shape[1], 1))"
      ]
    },
    {
      "cell_type": "code",
      "execution_count": null,
      "metadata": {
        "colab": {
          "base_uri": "https://localhost:8080/"
        },
        "id": "Zb52tDEmwm0B",
        "outputId": "ad364191-13e2-406b-fbeb-1969632d5a89"
      },
      "outputs": [
        {
          "output_type": "stream",
          "name": "stdout",
          "text": [
            "[[-2.56789584]\n",
            " [-2.34840867]\n",
            " [-1.56385878]\n",
            " [-1.43893789]\n",
            " [-1.47629741]]\n",
            "[-2.58540811 -2.34023627 -1.56502626 -1.45061274 -1.47629741]\n",
            "\n",
            "shape x_train =  (486, 720, 1)\n",
            "shape y_train =  (486,)\n",
            "\n",
            "shape x_test =  (97, 720, 1)\n",
            "shape y_test =  (97,)\n"
          ]
        }
      ],
      "source": [
        "print(x_train[:5,719])\n",
        "print(y_train[:5])\n",
        "print(\"\\nshape x_train = \",x_train.shape)\n",
        "print(\"shape y_train = \",y_train.shape)\n",
        "print(\"\\nshape x_test = \",x_test.shape)\n",
        "print(\"shape y_test = \",y_test.shape)"
      ]
    },
    {
      "cell_type": "markdown",
      "source": [
        "Defing the model"
      ],
      "metadata": {
        "id": "dQLkMxakiVTw"
      }
    },
    {
      "cell_type": "code",
      "execution_count": null,
      "metadata": {
        "colab": {
          "base_uri": "https://localhost:8080/"
        },
        "id": "IHDGwHGvw_wS",
        "outputId": "1fcb9468-1fe4-4b85-b22d-4aeb1da3f41b"
      },
      "outputs": [
        {
          "output_type": "stream",
          "name": "stdout",
          "text": [
            "Model: \"sequential\"\n",
            "_________________________________________________________________\n",
            " Layer (type)                Output Shape              Param #   \n",
            "=================================================================\n",
            " lstm (LSTM)                 (None, 720, 50)           10400     \n",
            "                                                                 \n",
            " dropout (Dropout)           (None, 720, 50)           0         \n",
            "                                                                 \n",
            " lstm_1 (LSTM)               (None, 720, 50)           20200     \n",
            "                                                                 \n",
            " dropout_1 (Dropout)         (None, 720, 50)           0         \n",
            "                                                                 \n",
            " lstm_2 (LSTM)               (None, 50)                20200     \n",
            "                                                                 \n",
            " dropout_2 (Dropout)         (None, 50)                0         \n",
            "                                                                 \n",
            " dense (Dense)               (None, 1)                 51        \n",
            "                                                                 \n",
            "=================================================================\n",
            "Total params: 50851 (198.64 KB)\n",
            "Trainable params: 50851 (198.64 KB)\n",
            "Non-trainable params: 0 (0.00 Byte)\n",
            "_________________________________________________________________\n"
          ]
        }
      ],
      "source": [
        "model = Sequential()\n",
        "model.add(LSTM(units=50, return_sequences=True, input_shape=(x_train.shape[1], 1)))\n",
        "model.add(Dropout(0.2))\n",
        "model.add(LSTM(units=50, return_sequences=True))\n",
        "model.add(Dropout(0.2))\n",
        "model.add(LSTM(units=50))\n",
        "model.add(Dropout(0.2))\n",
        "model.add(Dense(units=1))\n",
        "model.summary()"
      ]
    },
    {
      "cell_type": "code",
      "execution_count": null,
      "metadata": {
        "colab": {
          "base_uri": "https://localhost:8080/"
        },
        "id": "oCweVADZ3p__",
        "outputId": "7a24cbc5-34d7-4645-c29c-cfaa4b787b51"
      },
      "outputs": [
        {
          "output_type": "stream",
          "name": "stdout",
          "text": [
            "Epoch 1/50\n",
            "16/16 [==============================] - 20s 898ms/step - loss: 0.4369\n",
            "Epoch 2/50\n",
            "16/16 [==============================] - 14s 903ms/step - loss: 0.0943\n",
            "Epoch 3/50\n",
            "16/16 [==============================] - 16s 947ms/step - loss: 0.0509\n",
            "Epoch 4/50\n",
            "16/16 [==============================] - 15s 893ms/step - loss: 0.0310\n",
            "Epoch 5/50\n",
            "16/16 [==============================] - 15s 963ms/step - loss: 0.0326\n",
            "Epoch 6/50\n",
            "16/16 [==============================] - 14s 892ms/step - loss: 0.0263\n",
            "Epoch 7/50\n",
            "16/16 [==============================] - 15s 910ms/step - loss: 0.0257\n",
            "Epoch 8/50\n",
            "16/16 [==============================] - 15s 905ms/step - loss: 0.0235\n",
            "Epoch 9/50\n",
            "16/16 [==============================] - 14s 891ms/step - loss: 0.0259\n",
            "Epoch 10/50\n",
            "16/16 [==============================] - 14s 886ms/step - loss: 0.0205\n",
            "Epoch 11/50\n",
            "16/16 [==============================] - 14s 895ms/step - loss: 0.0177\n",
            "Epoch 12/50\n",
            "16/16 [==============================] - 14s 890ms/step - loss: 0.0217\n",
            "Epoch 13/50\n",
            "16/16 [==============================] - 14s 905ms/step - loss: 0.0187\n",
            "Epoch 14/50\n",
            "16/16 [==============================] - 15s 908ms/step - loss: 0.0162\n",
            "Epoch 15/50\n",
            "16/16 [==============================] - 14s 898ms/step - loss: 0.0158\n",
            "Epoch 16/50\n",
            "16/16 [==============================] - 14s 891ms/step - loss: 0.0178\n",
            "Epoch 17/50\n",
            "16/16 [==============================] - 14s 891ms/step - loss: 0.0168\n",
            "Epoch 18/50\n",
            "16/16 [==============================] - 14s 888ms/step - loss: 0.0174\n",
            "Epoch 19/50\n",
            "16/16 [==============================] - 15s 916ms/step - loss: 0.0176\n",
            "Epoch 20/50\n",
            "16/16 [==============================] - 15s 910ms/step - loss: 0.0171\n",
            "Epoch 21/50\n",
            "16/16 [==============================] - 14s 899ms/step - loss: 0.0178\n",
            "Epoch 22/50\n",
            "16/16 [==============================] - 15s 965ms/step - loss: 0.0148\n",
            "Epoch 23/50\n",
            "16/16 [==============================] - 14s 893ms/step - loss: 0.0181\n",
            "Epoch 24/50\n",
            "16/16 [==============================] - 14s 899ms/step - loss: 0.0191\n",
            "Epoch 25/50\n",
            "16/16 [==============================] - 15s 929ms/step - loss: 0.0141\n",
            "Epoch 26/50\n",
            "16/16 [==============================] - 14s 896ms/step - loss: 0.0129\n",
            "Epoch 27/50\n",
            "16/16 [==============================] - 14s 896ms/step - loss: 0.0153\n",
            "Epoch 28/50\n",
            "16/16 [==============================] - 14s 899ms/step - loss: 0.0137\n",
            "Epoch 29/50\n",
            "16/16 [==============================] - 14s 893ms/step - loss: 0.0141\n",
            "Epoch 30/50\n",
            "16/16 [==============================] - 15s 916ms/step - loss: 0.0140\n",
            "Epoch 31/50\n",
            "16/16 [==============================] - 15s 911ms/step - loss: 0.0146\n",
            "Epoch 32/50\n",
            "16/16 [==============================] - 14s 907ms/step - loss: 0.0162\n",
            "Epoch 33/50\n",
            "16/16 [==============================] - 14s 906ms/step - loss: 0.0168\n",
            "Epoch 34/50\n",
            "16/16 [==============================] - 15s 917ms/step - loss: 0.0155\n",
            "Epoch 35/50\n",
            "16/16 [==============================] - 14s 897ms/step - loss: 0.0150\n",
            "Epoch 36/50\n",
            "16/16 [==============================] - 15s 940ms/step - loss: 0.0160\n",
            "Epoch 37/50\n",
            "16/16 [==============================] - 14s 892ms/step - loss: 0.0141\n",
            "Epoch 38/50\n",
            "16/16 [==============================] - 14s 900ms/step - loss: 0.0136\n",
            "Epoch 39/50\n",
            "16/16 [==============================] - 20s 1s/step - loss: 0.0147\n",
            "Epoch 40/50\n",
            "16/16 [==============================] - 15s 937ms/step - loss: 0.0119\n",
            "Epoch 41/50\n",
            "16/16 [==============================] - 14s 894ms/step - loss: 0.0132\n",
            "Epoch 42/50\n",
            "16/16 [==============================] - 14s 891ms/step - loss: 0.0168\n",
            "Epoch 43/50\n",
            "16/16 [==============================] - 14s 898ms/step - loss: 0.0141\n",
            "Epoch 44/50\n",
            "16/16 [==============================] - 14s 892ms/step - loss: 0.0196\n",
            "Epoch 45/50\n",
            "16/16 [==============================] - 15s 913ms/step - loss: 0.0157\n",
            "Epoch 46/50\n",
            "16/16 [==============================] - 15s 900ms/step - loss: 0.0124\n",
            "Epoch 47/50\n",
            "16/16 [==============================] - 14s 888ms/step - loss: 0.0151\n",
            "Epoch 48/50\n",
            "16/16 [==============================] - 14s 896ms/step - loss: 0.0144\n",
            "Epoch 49/50\n",
            "16/16 [==============================] - 14s 893ms/step - loss: 0.0163\n",
            "Epoch 50/50\n",
            "16/16 [==============================] - 14s 897ms/step - loss: 0.0120\n"
          ]
        },
        {
          "output_type": "execute_result",
          "data": {
            "text/plain": [
              "<keras.src.callbacks.History at 0x7ba775b7f430>"
            ]
          },
          "metadata": {},
          "execution_count": 18
        }
      ],
      "source": [
        "model.compile(optimizer='adam', loss='mean_squared_error')\n",
        "\n",
        "model.fit(x_train, y_train, epochs=50, batch_size=32)"
      ]
    },
    {
      "cell_type": "code",
      "execution_count": null,
      "metadata": {
        "id": "hc5kKLdQ4sA8",
        "colab": {
          "base_uri": "https://localhost:8080/"
        },
        "outputId": "f80e0286-7626-4bac-d110-cc98cbdf1e71"
      },
      "outputs": [
        {
          "output_type": "stream",
          "name": "stdout",
          "text": [
            "4/4 [==============================] - 3s 238ms/step - loss: 0.0036\n",
            "Test loss: 0.0035949500743299723\n"
          ]
        }
      ],
      "source": [
        "scores = model.evaluate(x_test, y_test)\n",
        "print(f'Test loss: {scores}')"
      ]
    },
    {
      "cell_type": "code",
      "source": [],
      "metadata": {
        "id": "ZbW3Me1GOOYp"
      },
      "execution_count": null,
      "outputs": []
    }
  ],
  "metadata": {
    "colab": {
      "provenance": []
    },
    "kernelspec": {
      "display_name": "Python 3",
      "name": "python3"
    },
    "language_info": {
      "name": "python"
    }
  },
  "nbformat": 4,
  "nbformat_minor": 0
}